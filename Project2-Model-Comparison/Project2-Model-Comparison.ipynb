{
 "cells": [
  {
   "cell_type": "markdown",
   "metadata": {},
   "source": [
    "# AIN313 ASSINGMENT 2\n"
   ]
  },
  {
   "cell_type": "markdown",
   "metadata": {},
   "source": [
    "## Movie Review Classification System"
   ]
  },
  {
   "cell_type": "markdown",
   "metadata": {},
   "source": [
    "### Step 1. Import and visualize the data"
   ]
  },
  {
   "cell_type": "code",
   "execution_count": 1,
   "metadata": {},
   "outputs": [],
   "source": [
    "import os\n",
    "import pandas as pd\n",
    "import matplotlib.pyplot as plt\n",
    "import seaborn as sns\n",
    "import numpy as np\n",
    "from collections import defaultdict\n",
    "import re\n",
    "from sklearn.metrics import accuracy_score, precision_score, recall_score, f1_score"
   ]
  },
  {
   "cell_type": "code",
   "execution_count": 2,
   "metadata": {},
   "outputs": [],
   "source": [
    "# We separate positive and negative tags by reading all files from the folder.\n",
    "def load_data(directory):\n",
    "    data = {'review': [], 'label': []}\n",
    "    for label_type in ['pos', 'neg']:\n",
    "        path = os.path.join(directory, label_type)\n",
    "        for filename in os.listdir(path):\n",
    "            if filename.endswith('.txt'):\n",
    "                with open(os.path.join(path, filename), 'r', encoding='utf-8') as file:\n",
    "                    data['review'].append(file.read())\n",
    "                    data['label'].append(1 if label_type == 'pos' else 0)\n",
    "    return pd.DataFrame(data)\n",
    "\n",
    "# print basic information\n",
    "def basic_info(data_set):\n",
    "    print(f\"This dataset contain/s {data_set.shape[0]} row/s and {data_set.shape[1]} column/s.\")\n",
    "    \n",
    "    print(\"\\nCount of missing values for each feature:\\n\")\n",
    "    display(data_set.isnull().sum())\n",
    "\n",
    "def stats_and_overview(data_set):\n",
    "    # summary statistics for features\n",
    "    display(data_set.describe())\n",
    "    \n",
    "    # overview of the dataset structure.\n",
    "    display(data_set.head())\n",
    "\n",
    "def visualize_data(df, df_name):\n",
    "    # Visualizing the distribution of labels\n",
    "    sns.countplot(x='label', data=df)\n",
    "    plt.title(df_name + \" Positive and Negative Comment Distribution \")\n",
    "    plt.xticks([0, 1], ['Negatif', 'Pozitif'])\n",
    "    plt.show()\n"
   ]
  },
  {
   "cell_type": "code",
   "execution_count": 3,
   "metadata": {},
   "outputs": [],
   "source": [
    "# Specify paths to training and testing folders\n",
    "train_dir = 'aclImdb/train'\n",
    "test_dir = 'aclImdb/test'\n",
    "\n",
    "# Load training and testing data\n",
    "train_data = load_data(train_dir)\n",
    "test_data = load_data(test_dir)"
   ]
  },
  {
   "cell_type": "markdown",
   "metadata": {},
   "source": [
    "**Basic info about test and train datas**"
   ]
  },
  {
   "cell_type": "code",
   "execution_count": 4,
   "metadata": {},
   "outputs": [
    {
     "name": "stdout",
     "output_type": "stream",
     "text": [
      "This dataset contain/s 25000 row/s and 2 column/s.\n",
      "\n",
      "Count of missing values for each feature:\n",
      "\n"
     ]
    },
    {
     "data": {
      "text/plain": [
       "review    0\n",
       "label     0\n",
       "dtype: int64"
      ]
     },
     "metadata": {},
     "output_type": "display_data"
    },
    {
     "name": "stdout",
     "output_type": "stream",
     "text": [
      "This dataset contain/s 25000 row/s and 2 column/s.\n",
      "\n",
      "Count of missing values for each feature:\n",
      "\n"
     ]
    },
    {
     "data": {
      "text/plain": [
       "review    0\n",
       "label     0\n",
       "dtype: int64"
      ]
     },
     "metadata": {},
     "output_type": "display_data"
    }
   ],
   "source": [
    "basic_info(train_data)\n",
    "basic_info(test_data)"
   ]
  },
  {
   "cell_type": "markdown",
   "metadata": {},
   "source": [
    "We see that there is a no null value"
   ]
  },
  {
   "cell_type": "markdown",
   "metadata": {},
   "source": [
    "**Stats and overview about train_data**"
   ]
  },
  {
   "cell_type": "code",
   "execution_count": 5,
   "metadata": {},
   "outputs": [
    {
     "data": {
      "text/html": [
       "<div>\n",
       "<style scoped>\n",
       "    .dataframe tbody tr th:only-of-type {\n",
       "        vertical-align: middle;\n",
       "    }\n",
       "\n",
       "    .dataframe tbody tr th {\n",
       "        vertical-align: top;\n",
       "    }\n",
       "\n",
       "    .dataframe thead th {\n",
       "        text-align: right;\n",
       "    }\n",
       "</style>\n",
       "<table border=\"1\" class=\"dataframe\">\n",
       "  <thead>\n",
       "    <tr style=\"text-align: right;\">\n",
       "      <th></th>\n",
       "      <th>label</th>\n",
       "    </tr>\n",
       "  </thead>\n",
       "  <tbody>\n",
       "    <tr>\n",
       "      <th>count</th>\n",
       "      <td>25000.00000</td>\n",
       "    </tr>\n",
       "    <tr>\n",
       "      <th>mean</th>\n",
       "      <td>0.50000</td>\n",
       "    </tr>\n",
       "    <tr>\n",
       "      <th>std</th>\n",
       "      <td>0.50001</td>\n",
       "    </tr>\n",
       "    <tr>\n",
       "      <th>min</th>\n",
       "      <td>0.00000</td>\n",
       "    </tr>\n",
       "    <tr>\n",
       "      <th>25%</th>\n",
       "      <td>0.00000</td>\n",
       "    </tr>\n",
       "    <tr>\n",
       "      <th>50%</th>\n",
       "      <td>0.50000</td>\n",
       "    </tr>\n",
       "    <tr>\n",
       "      <th>75%</th>\n",
       "      <td>1.00000</td>\n",
       "    </tr>\n",
       "    <tr>\n",
       "      <th>max</th>\n",
       "      <td>1.00000</td>\n",
       "    </tr>\n",
       "  </tbody>\n",
       "</table>\n",
       "</div>"
      ],
      "text/plain": [
       "             label\n",
       "count  25000.00000\n",
       "mean       0.50000\n",
       "std        0.50001\n",
       "min        0.00000\n",
       "25%        0.00000\n",
       "50%        0.50000\n",
       "75%        1.00000\n",
       "max        1.00000"
      ]
     },
     "metadata": {},
     "output_type": "display_data"
    },
    {
     "data": {
      "text/html": [
       "<div>\n",
       "<style scoped>\n",
       "    .dataframe tbody tr th:only-of-type {\n",
       "        vertical-align: middle;\n",
       "    }\n",
       "\n",
       "    .dataframe tbody tr th {\n",
       "        vertical-align: top;\n",
       "    }\n",
       "\n",
       "    .dataframe thead th {\n",
       "        text-align: right;\n",
       "    }\n",
       "</style>\n",
       "<table border=\"1\" class=\"dataframe\">\n",
       "  <thead>\n",
       "    <tr style=\"text-align: right;\">\n",
       "      <th></th>\n",
       "      <th>review</th>\n",
       "      <th>label</th>\n",
       "    </tr>\n",
       "  </thead>\n",
       "  <tbody>\n",
       "    <tr>\n",
       "      <th>0</th>\n",
       "      <td>For a movie that gets no respect there sure ar...</td>\n",
       "      <td>1</td>\n",
       "    </tr>\n",
       "    <tr>\n",
       "      <th>1</th>\n",
       "      <td>Bizarre horror movie filled with famous faces ...</td>\n",
       "      <td>1</td>\n",
       "    </tr>\n",
       "    <tr>\n",
       "      <th>2</th>\n",
       "      <td>A solid, if unremarkable film. Matthau, as Ein...</td>\n",
       "      <td>1</td>\n",
       "    </tr>\n",
       "    <tr>\n",
       "      <th>3</th>\n",
       "      <td>It's a strange feeling to sit alone in a theat...</td>\n",
       "      <td>1</td>\n",
       "    </tr>\n",
       "    <tr>\n",
       "      <th>4</th>\n",
       "      <td>You probably all already know this by now, but...</td>\n",
       "      <td>1</td>\n",
       "    </tr>\n",
       "  </tbody>\n",
       "</table>\n",
       "</div>"
      ],
      "text/plain": [
       "                                              review  label\n",
       "0  For a movie that gets no respect there sure ar...      1\n",
       "1  Bizarre horror movie filled with famous faces ...      1\n",
       "2  A solid, if unremarkable film. Matthau, as Ein...      1\n",
       "3  It's a strange feeling to sit alone in a theat...      1\n",
       "4  You probably all already know this by now, but...      1"
      ]
     },
     "metadata": {},
     "output_type": "display_data"
    }
   ],
   "source": [
    "stats_and_overview(train_data)\n"
   ]
  },
  {
   "cell_type": "markdown",
   "metadata": {},
   "source": [
    "**Stats and overview about test_data**"
   ]
  },
  {
   "cell_type": "code",
   "execution_count": 6,
   "metadata": {},
   "outputs": [
    {
     "data": {
      "text/html": [
       "<div>\n",
       "<style scoped>\n",
       "    .dataframe tbody tr th:only-of-type {\n",
       "        vertical-align: middle;\n",
       "    }\n",
       "\n",
       "    .dataframe tbody tr th {\n",
       "        vertical-align: top;\n",
       "    }\n",
       "\n",
       "    .dataframe thead th {\n",
       "        text-align: right;\n",
       "    }\n",
       "</style>\n",
       "<table border=\"1\" class=\"dataframe\">\n",
       "  <thead>\n",
       "    <tr style=\"text-align: right;\">\n",
       "      <th></th>\n",
       "      <th>label</th>\n",
       "    </tr>\n",
       "  </thead>\n",
       "  <tbody>\n",
       "    <tr>\n",
       "      <th>count</th>\n",
       "      <td>25000.00000</td>\n",
       "    </tr>\n",
       "    <tr>\n",
       "      <th>mean</th>\n",
       "      <td>0.50000</td>\n",
       "    </tr>\n",
       "    <tr>\n",
       "      <th>std</th>\n",
       "      <td>0.50001</td>\n",
       "    </tr>\n",
       "    <tr>\n",
       "      <th>min</th>\n",
       "      <td>0.00000</td>\n",
       "    </tr>\n",
       "    <tr>\n",
       "      <th>25%</th>\n",
       "      <td>0.00000</td>\n",
       "    </tr>\n",
       "    <tr>\n",
       "      <th>50%</th>\n",
       "      <td>0.50000</td>\n",
       "    </tr>\n",
       "    <tr>\n",
       "      <th>75%</th>\n",
       "      <td>1.00000</td>\n",
       "    </tr>\n",
       "    <tr>\n",
       "      <th>max</th>\n",
       "      <td>1.00000</td>\n",
       "    </tr>\n",
       "  </tbody>\n",
       "</table>\n",
       "</div>"
      ],
      "text/plain": [
       "             label\n",
       "count  25000.00000\n",
       "mean       0.50000\n",
       "std        0.50001\n",
       "min        0.00000\n",
       "25%        0.00000\n",
       "50%        0.50000\n",
       "75%        1.00000\n",
       "max        1.00000"
      ]
     },
     "metadata": {},
     "output_type": "display_data"
    },
    {
     "data": {
      "text/html": [
       "<div>\n",
       "<style scoped>\n",
       "    .dataframe tbody tr th:only-of-type {\n",
       "        vertical-align: middle;\n",
       "    }\n",
       "\n",
       "    .dataframe tbody tr th {\n",
       "        vertical-align: top;\n",
       "    }\n",
       "\n",
       "    .dataframe thead th {\n",
       "        text-align: right;\n",
       "    }\n",
       "</style>\n",
       "<table border=\"1\" class=\"dataframe\">\n",
       "  <thead>\n",
       "    <tr style=\"text-align: right;\">\n",
       "      <th></th>\n",
       "      <th>review</th>\n",
       "      <th>label</th>\n",
       "    </tr>\n",
       "  </thead>\n",
       "  <tbody>\n",
       "    <tr>\n",
       "      <th>0</th>\n",
       "      <td>Based on an actual story, John Boorman shows t...</td>\n",
       "      <td>1</td>\n",
       "    </tr>\n",
       "    <tr>\n",
       "      <th>1</th>\n",
       "      <td>This is a gem. As a Film Four production - the...</td>\n",
       "      <td>1</td>\n",
       "    </tr>\n",
       "    <tr>\n",
       "      <th>2</th>\n",
       "      <td>I really like this show. It has drama, romance...</td>\n",
       "      <td>1</td>\n",
       "    </tr>\n",
       "    <tr>\n",
       "      <th>3</th>\n",
       "      <td>This is the best 3-D experience Disney has at ...</td>\n",
       "      <td>1</td>\n",
       "    </tr>\n",
       "    <tr>\n",
       "      <th>4</th>\n",
       "      <td>Of the Korean movies I've seen, only three had...</td>\n",
       "      <td>1</td>\n",
       "    </tr>\n",
       "  </tbody>\n",
       "</table>\n",
       "</div>"
      ],
      "text/plain": [
       "                                              review  label\n",
       "0  Based on an actual story, John Boorman shows t...      1\n",
       "1  This is a gem. As a Film Four production - the...      1\n",
       "2  I really like this show. It has drama, romance...      1\n",
       "3  This is the best 3-D experience Disney has at ...      1\n",
       "4  Of the Korean movies I've seen, only three had...      1"
      ]
     },
     "metadata": {},
     "output_type": "display_data"
    }
   ],
   "source": [
    "stats_and_overview(test_data)"
   ]
  },
  {
   "cell_type": "markdown",
   "metadata": {},
   "source": [
    "**Visualization**"
   ]
  },
  {
   "cell_type": "code",
   "execution_count": 7,
   "metadata": {},
   "outputs": [
    {
     "data": {
      "image/png": "[encoded data removed]",
      "text/plain": [
       "<Figure size 640x480 with 1 Axes>"
      ]
     },
     "metadata": {},
     "output_type": "display_data"
    },
    {
     "data": {
      "image/png": "[encoded data removed]",
      "text/plain": [
       "<Figure size 640x480 with 1 Axes>"
      ]
     },
     "metadata": {},
     "output_type": "display_data"
    }
   ],
   "source": [
    "visualize_data(train_data, 'Train Data')\n",
    "visualize_data(test_data, \"Test Data\")"
   ]
  },
  {
   "cell_type": "markdown",
   "metadata": {},
   "source": [
    "We see that data distribution is equal"
   ]
  },
  {
   "cell_type": "markdown",
   "metadata": {},
   "source": [
    "### Step 2. Use BoW (Bag of Words) methodology to own Naïve Bayes Algorithm"
   ]
  },
  {
   "cell_type": "code",
   "execution_count": 8,
   "metadata": {},
   "outputs": [],
   "source": [
    "# Text cleaning \n",
    "def preprocess_text(text):\n",
    "    # Convert to lowercase\n",
    "    text = text.lower()\n",
    "    # Making each punctuation mark into a \"word\" by separating it with spaces\n",
    "    text = re.sub(r'([.,!?;:()\"\\'])', r' \\1 ', text)\n",
    "    # Cleaning up extra spaces\n",
    "    text = re.sub(r'\\s{2,}', ' ', text)\n",
    "    return text.strip().split()\n",
    "\n",
    "\n",
    "def build_bow(reviews, ngram=1):\n",
    "    bow = defaultdict(int)\n",
    "    for review in reviews:\n",
    "        tokens = preprocess_text(review)\n",
    "        for i in range(len(tokens) - ngram + 1):\n",
    "            ngram_tuple = tuple(tokens[i:i+ngram])\n",
    "            bow[ngram_tuple] += 1\n",
    "    return bow"
   ]
  },
  {
   "cell_type": "code",
   "execution_count": 9,
   "metadata": {},
   "outputs": [
    {
     "name": "stdout",
     "output_type": "stream",
     "text": [
      "Unigram examples: [(('for',), 43803), (('a',), 161729), (('movie',), 43389), (('that',), 72894), (('gets',), 3200), (('no',), 12282), (('respect',), 481), (('there',), 17781), (('sure',), 2621), (('are',), 29389), (('lot',), 3969), (('of',), 145244), (('memorable',), 661), (('quotes',), 98), (('listed',), 125), (('this',), 73598), (('gem',), 361), (('.',), 327192), (('imagine',), 722), (('where',), 6331)]\n",
      "Bigram examples: [(('for', 'a'), 4520), (('a', 'movie'), 3135), (('movie', 'that'), 1274), (('that', 'gets'), 85), (('gets', 'no'), 16), (('no', 'respect'), 20), (('respect', 'there'), 1), (('there', 'sure'), 3), (('sure', 'are'), 1), (('are', 'a'), 1069), (('a', 'lot'), 3619), (('lot', 'of'), 2403), (('of', 'memorable'), 14), (('memorable', 'quotes'), 16), (('quotes', 'listed'), 1), (('listed', 'for'), 4), (('for', 'this'), 1550), (('this', 'gem'), 50), (('gem', '.'), 105), (('.', 'imagine'), 55)]\n",
      "Trigram examples: [(('for', 'a', 'movie'), 169), (('a', 'movie', 'that'), 460), (('movie', 'that', 'gets'), 5), (('that', 'gets', 'no'), 1), (('gets', 'no', 'respect'), 1), (('no', 'respect', 'there'), 1), (('respect', 'there', 'sure'), 1), (('there', 'sure', 'are'), 1), (('sure', 'are', 'a'), 1), (('are', 'a', 'lot'), 116), (('a', 'lot', 'of'), 2258), (('lot', 'of', 'memorable'), 1), (('of', 'memorable', 'quotes'), 3), (('memorable', 'quotes', 'listed'), 1), (('quotes', 'listed', 'for'), 1), (('listed', 'for', 'this'), 1), (('for', 'this', 'gem'), 2), (('this', 'gem', '.'), 14), (('gem', '.', 'imagine'), 1), (('.', 'imagine', 'a'), 10)]\n"
     ]
    }
   ],
   "source": [
    "# Creating Unigram, Bigram and Trigram BoW models\n",
    "unigram_bow = build_bow(train_data[\"review\"], ngram=1)\n",
    "bigram_bow = build_bow(train_data[\"review\"], ngram=2)\n",
    "trigram_bow = build_bow(train_data[\"review\"], ngram=3)\n",
    "\n",
    "print(\"Unigram examples:\", list(unigram_bow.items())[:20])\n",
    "print(\"Bigram examples:\", list(bigram_bow.items())[:20])\n",
    "print(\"Trigram examples:\", list(trigram_bow.items())[:20])"
   ]
  },
  {
   "cell_type": "code",
   "execution_count": null,
   "metadata": {},
   "outputs": [],
   "source": [
    "class NaiveBayesClassifier:\n",
    "    def __init__(self, ngram=1, smoothing=1):\n",
    "        self.ngram = ngram\n",
    "        self.smoothing = smoothing\n",
    "        self.pos_word_counts = defaultdict(int)\n",
    "        self.neg_word_counts = defaultdict(int)\n",
    "        self.total_pos_words = 0\n",
    "        self.total_neg_words = 0\n",
    "        self.vocab = set()\n",
    "        self.pos_reviews = 0\n",
    "        self.neg_reviews = 0\n",
    "    \n",
    "    def fit(self, data):\n",
    "        # Create n-gram BoW models separately for positive and negative class\n",
    "        pos_reviews = data[data['label'] == 1]['review']\n",
    "        neg_reviews = data[data['label'] == 0]['review']\n",
    "        \n",
    "        # Generate positive and negative n-gram BoW models\n",
    "        self.pos_word_counts = build_bow(pos_reviews, ngram=self.ngram)\n",
    "        self.neg_word_counts = build_bow(neg_reviews, ngram=self.ngram)\n",
    "        \n",
    "        # Calculate total number of words for each class\n",
    "        self.total_pos_words = sum(self.pos_word_counts.values())\n",
    "        self.total_neg_words = sum(self.neg_word_counts.values())\n",
    "        \n",
    "        # Number for each comment class\n",
    "        self.pos_reviews = len(pos_reviews)\n",
    "        self.neg_reviews = len(neg_reviews)\n",
    "        \n",
    "        # Update vocabulary\n",
    "        self.vocab = set(self.pos_word_counts.keys()).union(set(self.neg_word_counts.keys()))\n",
    "    \n",
    "    def predict(self, review):\n",
    "        tokens = preprocess_text(review)\n",
    "        \n",
    "        # Set logarithmic probabilities with initial values\n",
    "        log_prob_pos = np.log(self.pos_reviews / (self.pos_reviews + self.neg_reviews))\n",
    "        log_prob_neg = np.log(self.neg_reviews / (self.pos_reviews + self.neg_reviews))\n",
    "\n",
    "        # Add logarithmic probabilities for each n-gram\n",
    "        for i in range(len(tokens) - self.ngram + 1):\n",
    "            ngram_tuple = tuple(tokens[i:i+self.ngram])\n",
    "            \n",
    "            log_prob_pos += np.log((self.pos_word_counts[ngram_tuple] + self.smoothing) / \n",
    "                                   (self.total_pos_words + self.smoothing * len(self.vocab)))\n",
    "            log_prob_neg += np.log((self.neg_word_counts[ngram_tuple] + self.smoothing) / \n",
    "                                   (self.total_neg_words + self.smoothing * len(self.vocab)))\n",
    "\n",
    "        # Guess whichever class is bigger\n",
    "        return 1 if log_prob_pos > log_prob_neg else 0\n",
    "\n",
    "    def predict_batch(self, data):\n",
    "        return [self.predict(review) for review in data['review']]\n"
   ]
  },
  {
   "cell_type": "code",
   "execution_count": 11,
   "metadata": {},
   "outputs": [],
   "source": [
    "def nb_predictions(data, n=1):\n",
    "    # Train the model\n",
    "    nb_classifier = NaiveBayesClassifier(ngram=n, smoothing=1) \n",
    "    nb_classifier.fit(train_data)\n",
    "\n",
    "    # Run the model on test data and get predictions\n",
    "    test_predictions = nb_classifier.predict_batch(data)\n",
    "    \n",
    "    return test_predictions"
   ]
  },
  {
   "cell_type": "code",
   "execution_count": 12,
   "metadata": {},
   "outputs": [],
   "source": [
    "test_predictions_n1 = nb_predictions(test_data, 1) \n",
    "test_predictions_n2 = nb_predictions(test_data, 2)\n",
    "test_predictions_n3 = nb_predictions(test_data, 3)"
   ]
  },
  {
   "cell_type": "markdown",
   "metadata": {},
   "source": [
    "### Step 3. Finally compute performance "
   ]
  },
  {
   "cell_type": "code",
   "execution_count": 13,
   "metadata": {},
   "outputs": [],
   "source": [
    "def performance(data, predictions, n=1):\n",
    "    print(f\"\\nPerformances for n = {n} \")\n",
    "    \n",
    "    accuracy = accuracy_score(data['label'], predictions)\n",
    "    precision = precision_score(data['label'], predictions)\n",
    "    recall = recall_score(data['label'], predictions)\n",
    "    f1 = f1_score(data['label'], predictions)\n",
    "\n",
    "    print(\"Accuracy:\", accuracy)\n",
    "    print(\"Precision:\", precision)\n",
    "    print(\"Recall:\", recall)\n",
    "    print(\"F1 Score:\", f1)"
   ]
  },
  {
   "cell_type": "code",
   "execution_count": 14,
   "metadata": {},
   "outputs": [
    {
     "name": "stdout",
     "output_type": "stream",
     "text": [
      "\n",
      "Performances for n = 1 \n",
      "Accuracy: 0.81268\n",
      "Precision: 0.8599318537618565\n",
      "Recall: 0.74704\n",
      "F1 Score: 0.7995205274198381\n",
      "\n",
      "Performances for n = 2 \n",
      "Accuracy: 0.863\n",
      "Precision: 0.897991404262784\n",
      "Recall: 0.81904\n",
      "F1 Score: 0.8567005564620728\n",
      "\n",
      "Performances for n = 3 \n",
      "Accuracy: 0.86928\n",
      "Precision: 0.9191790773701417\n",
      "Recall: 0.80976\n",
      "F1 Score: 0.8610071452875128\n"
     ]
    }
   ],
   "source": [
    "performance(test_data, test_predictions_n1, 1)\n",
    "performance(test_data, test_predictions_n2, 2)\n",
    "performance(test_data, test_predictions_n3, 3)"
   ]
  }
 ],
 "metadata": {
  "kernelspec": {
   "display_name": "Python 3",
   "language": "python",
   "name": "python3"
  },
  "language_info": {
   "codemirror_mode": {
    "name": "ipython",
    "version": 3
   },
   "file_extension": ".py",
   "mimetype": "text/x-python",
   "name": "python",
   "nbconvert_exporter": "python",
   "pygments_lexer": "ipython3",
   "version": "3.13.0"
  }
 },
 "nbformat": 4,
 "nbformat_minor": 2
}
